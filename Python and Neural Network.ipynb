{
 "cells": [
  {
   "cell_type": "markdown",
   "metadata": {},
   "source": [
    "## Python基础"
   ]
  },
  {
   "cell_type": "markdown",
   "metadata": {},
   "source": [
    "约定：在使用TensorFlow时用Python3，其他时候均使用Python2.7"
   ]
  },
  {
   "cell_type": "markdown",
   "metadata": {},
   "source": [
    "这里只介绍实现神经网络过程中用到的所有python基础知识，并不会像python书一样从头介绍到尾，而是以此为中心点自行扩充，查漏补缺，逐渐熟悉python。"
   ]
  },
  {
   "cell_type": "markdown",
   "metadata": {},
   "source": [
    "### 和我们熟悉的Java、C++的区别"
   ]
  },
  {
   "cell_type": "markdown",
   "metadata": {},
   "source": [
    "- 语句末尾没有分号\n",
    "- 缩进敏感（严格到甚至空行不对都无法通过编译）\n",
    "- 不需要指定类型\n",
    "\n",
    "上述区别使熟悉java、c++的程序员在用Python的初期感到哪哪都不舒服，尤其是不指定类型这一条，经常导致很多编译错误，在用列表、数组这些数据结构时候尤其容易出错。"
   ]
  },
  {
   "cell_type": "markdown",
   "metadata": {},
   "source": [
    "### 包引用\n",
    "通常用的方式有：\n",
    "```Python\n",
    "import numpy as np\n",
    "from keras.datasets import mnist\n",
    "import random\n",
    "```"
   ]
  },
  {
   "cell_type": "markdown",
   "metadata": {},
   "source": [
    "### 变量和简单数据类型"
   ]
  },
  {
   "cell_type": "markdown",
   "metadata": {},
   "source": [
    "python的简单数据类型只有字符串和数字，用的时候直接定义就行，不需要声明再定义。如果在某语句块里（有缩进），就是局部变量，在语句块外，就是全局变量。"
   ]
  },
  {
   "cell_type": "markdown",
   "metadata": {},
   "source": [
    "### 列表、元组、数组、矩阵"
   ]
  },
  {
   "cell_type": "markdown",
   "metadata": {},
   "source": [
    "这是几个经常搞不清的高频报错概念。"
   ]
  },
  {
   "cell_type": "markdown",
   "metadata": {},
   "source": [
    "列表和元组是python自有的数据结构（这么描述可能不是很准确，就是不用引用其他包就能使用的数据结构），数组和矩阵指用了numpy库中的函数。"
   ]
  },
  {
   "cell_type": "markdown",
   "metadata": {},
   "source": [
    "**TODO：请建立一个含有'alice'、‘david’、‘carolina’的列表，并输出列表中所有元素以及列表的长度** "
   ]
  },
  {
   "cell_type": "code",
   "execution_count": null,
   "metadata": {},
   "outputs": [],
   "source": []
  },
  {
   "cell_type": "markdown",
   "metadata": {},
   "source": [
    "**TODO：请打印数字1~100** "
   ]
  },
  {
   "cell_type": "code",
   "execution_count": null,
   "metadata": {},
   "outputs": [],
   "source": []
  },
  {
   "cell_type": "markdown",
   "metadata": {},
   "source": [
    "**TODO：创建空列表，将1~10的平方依次放入该列表，打印列表中大于25且小于81的数，并输出列表的最大值、最小值、和，**"
   ]
  },
  {
   "cell_type": "code",
   "execution_count": null,
   "metadata": {},
   "outputs": [],
   "source": []
  },
  {
   "cell_type": "markdown",
   "metadata": {},
   "source": [
    "**TODO：请回答什么是元组？元组与列表的区别是什么？**"
   ]
  },
  {
   "cell_type": "code",
   "execution_count": null,
   "metadata": {},
   "outputs": [],
   "source": []
  },
  {
   "cell_type": "markdown",
   "metadata": {},
   "source": [
    "**TODO：定义一个元组，并定义一个函数，函数的作用为输出元组中所有值**"
   ]
  },
  {
   "cell_type": "code",
   "execution_count": null,
   "metadata": {},
   "outputs": [],
   "source": []
  },
  {
   "cell_type": "markdown",
   "metadata": {},
   "source": [
    "**TODO：定义一个numpy数组，含有1，2, 3，4,5元素，定义另一个numpy数组，含有0.2，0.3,0.4，0.5,0.6元素，两个数组做矩阵乘法**"
   ]
  },
  {
   "cell_type": "code",
   "execution_count": null,
   "metadata": {},
   "outputs": [],
   "source": []
  },
  {
   "cell_type": "markdown",
   "metadata": {},
   "source": [
    "**TODO：定义一个与上一问中1,2,3,4,5数组shape相同的元素都为0的数组**"
   ]
  },
  {
   "cell_type": "code",
   "execution_count": null,
   "metadata": {},
   "outputs": [],
   "source": []
  },
  {
   "cell_type": "markdown",
   "metadata": {},
   "source": [
    "**TODO：请写出下述程序的运行结果**\n",
    "```Python\n",
    "x = [1, 2, 3]\n",
    "\n",
    "y = [4, 5, 6]\n",
    "\n",
    "z = [7, 8, 9]\n",
    "\n",
    "xyz = zip(x, y, z)\n",
    "\n",
    "print xyz\n",
    "```"
   ]
  },
  {
   "cell_type": "markdown",
   "metadata": {},
   "source": [
    "## 神经网络"
   ]
  },
  {
   "cell_type": "code",
   "execution_count": null,
   "metadata": {},
   "outputs": [],
   "source": [
    "import numpy as np\n",
    "import pandas as pd\n",
    "# TODO：读取SleepQuality.csv中的数据\n",
    "data = None\n",
    "# TODO：选择你认为对预测睡眠质量有用的特征，必要时通过pandas的get_dummies方法将非数值型变量变成数值型变量\n",
    "\n",
    "# TODO: 特征归一化\n",
    "\n",
    "# 随机取10%的数据作为测试集\n",
    "np.random.seed(42)\n",
    "sample = np.random.choice(data.index, size=int(len(data)*0.9), replace=False)\n",
    "data, test_data = data.ix[sample], data.drop(sample)\n",
    "\n",
    "\n",
    "# 将训练集和测试集都分为features 和 targets 两部分\n",
    "features, targets = data.drop('Sleep quality', axis=1), data['Sleep quality']\n",
    "features_test, targets_test = test_data.drop('Sleep quality', axis=1), test_data['Sleep quality']\n",
    "\n",
    "# TODO:定义一个合适的激活函数\n",
    "def activate_function(x):\n",
    "    return None\n",
    "\n",
    "np.random.seed(42)\n",
    "n_records, n_features = features.shape\n",
    "last_loss = None\n",
    "\n",
    "# TODO：初始化权重矩阵\n",
    "weights = np.random.normal(scale=1 / n_features**.5, size=n_features)\n",
    "\n",
    "# TODO：设置代数和学习率\n",
    "epochs = None\n",
    "learnrate = None\n",
    "\n",
    "\n",
    "for e in range(epochs):\n",
    "    del_w = np.zeros(weights.shape)\n",
    "    for x, y in zip(features.values, targets):\n",
    "        # TODO：实现神经网络模型\n",
    "        del_w += None\n",
    "    weights += learnrate * del_w / len(x)\n",
    "\n",
    "    # 输出训练集的MSE\n",
    "    if e % (epochs / 10) == 0:\n",
    "        out = sigmoid(np.dot(features, weights))\n",
    "        loss = np.mean((out - targets) ** 2)\n",
    "        if last_loss and last_loss < loss:\n",
    "            print(\"Train loss: \", loss, \"  WARNING - Loss Increasing\")\n",
    "        else:\n",
    "            print(\"Train loss: \", loss)\n",
    "        last_loss = loss\n",
    "\n",
    "\n",
    "# 计算在测试集上的accuracy\n",
    "tes_out = sigmoid(np.dot(features_test, weights))\n",
    "predictions = tes_out > 0.5\n",
    "accuracy = np.mean(predictions == targets_test)\n",
    "print(\"Prediction accuracy: {:.3f}\".format(accuracy))"
   ]
  }
 ],
 "metadata": {
  "kernelspec": {
   "display_name": "Python 2",
   "language": "python",
   "name": "python2"
  },
  "language_info": {
   "codemirror_mode": {
    "name": "ipython",
    "version": 2
   },
   "file_extension": ".py",
   "mimetype": "text/x-python",
   "name": "python",
   "nbconvert_exporter": "python",
   "pygments_lexer": "ipython2",
   "version": "2.7.14"
  }
 },
 "nbformat": 4,
 "nbformat_minor": 2
}
